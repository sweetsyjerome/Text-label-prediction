{
 "cells": [
  {
   "cell_type": "code",
   "execution_count": null,
   "id": "897f8a3f",
   "metadata": {},
   "outputs": [],
   "source": [
    "pip install label_studio\n",
    "pip install label_studio_sdk\n",
    "pip install nltk\n",
    "pip install tqdm\n",
    "pip install sklearn\n",
    "pip install sklearn.cross_validation"
   ]
  },
  {
   "cell_type": "markdown",
   "id": "a5967d71",
   "metadata": {},
   "source": [
    "# Data Loading"
   ]
  },
  {
   "cell_type": "markdown",
   "id": "08f6d29f",
   "metadata": {},
   "source": [
    "First we need to load our labled text data from label studio. For that we use label_studio_sdk client and project modules. \n",
    "For data analysis we are using pandas."
   ]
  },
  {
   "cell_type": "code",
   "execution_count": 2,
   "id": "96090ae6",
   "metadata": {},
   "outputs": [],
   "source": [
    "from label_studio_sdk import Client\n",
    "from label_studio_sdk import project\n",
    "import pandas as pd\n",
    "import tqdm"
   ]
  },
  {
   "cell_type": "markdown",
   "id": "00cad72b",
   "metadata": {},
   "source": [
    "Now we are extracting only the annotated data from the loaded data and we clean it finally to save it into a panda dataframe. The below function takes the label studio url and the API key to load the labeled data from studio and returns a data frame."
   ]
  },
  {
   "cell_type": "code",
   "execution_count": 3,
   "id": "b7fb9d59",
   "metadata": {},
   "outputs": [],
   "source": [
    "def from_label_studio_to_dataframe( LABEL_STUDIO_URL=\"\",API_KEY=\"\"):\n",
    "     \n",
    "    ls = Client(url=LABEL_STUDIO_URL, api_key=API_KEY)\n",
    "    ls.check_connection()\n",
    "    pro = project.Project.get_from_id(ls, \"1\")\n",
    "    raw_data = project.Project.get_labeled_tasks(pro)\n",
    "        \n",
    "\n",
    "    df = pd.DataFrame(columns=[\"text\", \"types\", \"category\", \"values\"])\n",
    "\n",
    "    tag2val = {\n",
    "        \"Question_1_Company_specific\": 0,\n",
    "        \"Question_1_Market_related\": 1,\n",
    "        \"Question_2_specific\": 0,\n",
    "        \"Question_2_open\": 1,\n",
    "        \"Question_3_attack\": 2,\n",
    "        \"Question_3_support\": 0,\n",
    "        \"Question_3_neutral\": 1,\n",
    "        \"Answer_1_specific\": 0,\n",
    "        \"Answer_1_avoid_excuse\": 1,\n",
    "        \"Answer_2_negative\": 0,\n",
    "        \"Answer_2_positive\": 1,\n",
    "        \"Answer_3_blame\": 0,\n",
    "        \"Answer_3_no_blame\": 1\n",
    "    }\n",
    "\n",
    "\n",
    "    for task in tqdm.tqdm(raw_data):\n",
    "        annotations = task[\"annotations\"][0][\"result\"]\n",
    "\n",
    "        for ann in annotations:\n",
    "            text = ann[\"value\"][\"text\"]\n",
    "            label = ann[\"value\"][\"labels\"][0]\n",
    "            \n",
    "\n",
    "            # Ignore any odservation that does not have any of the question and answer categories\n",
    "            # (ex: an observation that only labels the question QID_13)\n",
    "            if len(label) < 7:\n",
    "                continue\n",
    "\n",
    "            # Get the category \"Answer\" or \"Question\" from the label\n",
    "            types = \"Answer\" if \"Answer\" in label else \"Question\"\n",
    "            # Get the category\n",
    "            category = int(label.split(\"_\")[1])\n",
    "            # Get the value\n",
    "            values = tag2val[label]\n",
    "            # Add the observation to the dataframe\n",
    "            df = df.append(\n",
    "                {\n",
    "                    \"text\": text,\n",
    "                    \"types\": types,\n",
    "                    \"category\": category,\n",
    "                    \"values\": values\n",
    "                },\n",
    "                ignore_index=True)    \n",
    "\n",
    "    return df"
   ]
  },
  {
   "cell_type": "code",
   "execution_count": 5,
   "id": "3570d7a8",
   "metadata": {},
   "outputs": [
    {
     "name": "stderr",
     "output_type": "stream",
     "text": [
      "100%|██████████████████████████████████████████████████████████████████████████████████| 73/73 [00:09<00:00,  7.73it/s]\n"
     ]
    }
   ],
   "source": [
    "LABEL_STUDIO_URL = 'http://132.231.59.226:8080' #this address needs to be the same as the address the label-studio is hosted on.\n",
    "API_KEY = '185528f3099e4928918ed4d84d33c91cdc2b3392' #please add your personal API_Key here to get your API_Key follow the Pictures below\n",
    "\n",
    "data = from_label_studio_to_dataframe( LABEL_STUDIO_URL = LABEL_STUDIO_URL , API_KEY= API_KEY)\n",
    "data\n",
    "data.to_csv('data.csv')"
   ]
  },
  {
   "cell_type": "code",
   "execution_count": 6,
   "id": "b0a21698",
   "metadata": {},
   "outputs": [
    {
     "name": "stdout",
     "output_type": "stream",
     "text": [
      "<class 'pandas.core.frame.DataFrame'>\n",
      "RangeIndex: 8472 entries, 0 to 8471\n",
      "Data columns (total 5 columns):\n",
      " #   Column      Non-Null Count  Dtype \n",
      "---  ------      --------------  ----- \n",
      " 0   Unnamed: 0  8472 non-null   int64 \n",
      " 1   text        8472 non-null   object\n",
      " 2   types       8472 non-null   object\n",
      " 3   category    8472 non-null   int64 \n",
      " 4   values      8472 non-null   int64 \n",
      "dtypes: int64(3), object(2)\n",
      "memory usage: 331.1+ KB\n"
     ]
    },
    {
     "data": {
      "text/html": [
       "<div>\n",
       "<style scoped>\n",
       "    .dataframe tbody tr th:only-of-type {\n",
       "        vertical-align: middle;\n",
       "    }\n",
       "\n",
       "    .dataframe tbody tr th {\n",
       "        vertical-align: top;\n",
       "    }\n",
       "\n",
       "    .dataframe thead th {\n",
       "        text-align: right;\n",
       "    }\n",
       "</style>\n",
       "<table border=\"1\" class=\"dataframe\">\n",
       "  <thead>\n",
       "    <tr style=\"text-align: right;\">\n",
       "      <th></th>\n",
       "      <th>Unnamed: 0</th>\n",
       "      <th>text</th>\n",
       "      <th>types</th>\n",
       "      <th>category</th>\n",
       "      <th>values</th>\n",
       "    </tr>\n",
       "  </thead>\n",
       "  <tbody>\n",
       "    <tr>\n",
       "      <th>0</th>\n",
       "      <td>0</td>\n",
       "      <td>Good afternoon and thanks a lot for taking my...</td>\n",
       "      <td>Question</td>\n",
       "      <td>1</td>\n",
       "      <td>0</td>\n",
       "    </tr>\n",
       "    <tr>\n",
       "      <th>1</th>\n",
       "      <td>1</td>\n",
       "      <td>Good afternoon and thanks a lot for taking my ...</td>\n",
       "      <td>Question</td>\n",
       "      <td>2</td>\n",
       "      <td>0</td>\n",
       "    </tr>\n",
       "    <tr>\n",
       "      <th>2</th>\n",
       "      <td>2</td>\n",
       "      <td>Good afternoon and thanks a lot for taking my ...</td>\n",
       "      <td>Question</td>\n",
       "      <td>3</td>\n",
       "      <td>1</td>\n",
       "    </tr>\n",
       "    <tr>\n",
       "      <th>3</th>\n",
       "      <td>3</td>\n",
       "      <td>No, I think that as it relates to the one, I t...</td>\n",
       "      <td>Answer</td>\n",
       "      <td>1</td>\n",
       "      <td>0</td>\n",
       "    </tr>\n",
       "    <tr>\n",
       "      <th>4</th>\n",
       "      <td>4</td>\n",
       "      <td>No, I think that as it relates to the one, I ...</td>\n",
       "      <td>Answer</td>\n",
       "      <td>2</td>\n",
       "      <td>1</td>\n",
       "    </tr>\n",
       "    <tr>\n",
       "      <th>...</th>\n",
       "      <td>...</td>\n",
       "      <td>...</td>\n",
       "      <td>...</td>\n",
       "      <td>...</td>\n",
       "      <td>...</td>\n",
       "    </tr>\n",
       "    <tr>\n",
       "      <th>8467</th>\n",
       "      <td>8467</td>\n",
       "      <td>One of the areas obviously which has been a s...</td>\n",
       "      <td>Question</td>\n",
       "      <td>2</td>\n",
       "      <td>0</td>\n",
       "    </tr>\n",
       "    <tr>\n",
       "      <th>8468</th>\n",
       "      <td>8468</td>\n",
       "      <td>One of the areas obviously which has been a st...</td>\n",
       "      <td>Question</td>\n",
       "      <td>3</td>\n",
       "      <td>1</td>\n",
       "    </tr>\n",
       "    <tr>\n",
       "      <th>8469</th>\n",
       "      <td>8469</td>\n",
       "      <td>Well, let's start with the first part of your ...</td>\n",
       "      <td>Answer</td>\n",
       "      <td>1</td>\n",
       "      <td>0</td>\n",
       "    </tr>\n",
       "    <tr>\n",
       "      <th>8470</th>\n",
       "      <td>8470</td>\n",
       "      <td>Well, let's start with the first part of your ...</td>\n",
       "      <td>Answer</td>\n",
       "      <td>2</td>\n",
       "      <td>1</td>\n",
       "    </tr>\n",
       "    <tr>\n",
       "      <th>8471</th>\n",
       "      <td>8471</td>\n",
       "      <td>Well, let's start with the first part of your ...</td>\n",
       "      <td>Answer</td>\n",
       "      <td>3</td>\n",
       "      <td>1</td>\n",
       "    </tr>\n",
       "  </tbody>\n",
       "</table>\n",
       "<p>8472 rows × 5 columns</p>\n",
       "</div>"
      ],
      "text/plain": [
       "      Unnamed: 0                                               text     types  \\\n",
       "0              0   Good afternoon and thanks a lot for taking my...  Question   \n",
       "1              1  Good afternoon and thanks a lot for taking my ...  Question   \n",
       "2              2  Good afternoon and thanks a lot for taking my ...  Question   \n",
       "3              3  No, I think that as it relates to the one, I t...    Answer   \n",
       "4              4   No, I think that as it relates to the one, I ...    Answer   \n",
       "...          ...                                                ...       ...   \n",
       "8467        8467   One of the areas obviously which has been a s...  Question   \n",
       "8468        8468  One of the areas obviously which has been a st...  Question   \n",
       "8469        8469  Well, let's start with the first part of your ...    Answer   \n",
       "8470        8470  Well, let's start with the first part of your ...    Answer   \n",
       "8471        8471  Well, let's start with the first part of your ...    Answer   \n",
       "\n",
       "      category  values  \n",
       "0            1       0  \n",
       "1            2       0  \n",
       "2            3       1  \n",
       "3            1       0  \n",
       "4            2       1  \n",
       "...        ...     ...  \n",
       "8467         2       0  \n",
       "8468         3       1  \n",
       "8469         1       0  \n",
       "8470         2       1  \n",
       "8471         3       1  \n",
       "\n",
       "[8472 rows x 5 columns]"
      ]
     },
     "execution_count": 6,
     "metadata": {},
     "output_type": "execute_result"
    }
   ],
   "source": [
    "df = pd.read_csv('C:/Users/sweet/OneDrive/Desktop/DLTA/Assignment/Assignment2/assignment-2/data.csv')\n",
    "df.info()\n",
    "df"
   ]
  },
  {
   "cell_type": "markdown",
   "id": "3d58964c",
   "metadata": {},
   "source": [
    "# Data Preprocessing "
   ]
  },
  {
   "cell_type": "markdown",
   "id": "67f0d7c8",
   "metadata": {},
   "source": [
    "We are focusing to generate a target model that tries to predict  only the ANSWER LABEL 2 (\"Answer_2_negative\": 0, \"Answer_2_positive\": 1) for the text.\n"
   ]
  },
  {
   "cell_type": "code",
   "execution_count": 7,
   "id": "ff8c6a04",
   "metadata": {},
   "outputs": [
    {
     "name": "stderr",
     "output_type": "stream",
     "text": [
      "C:\\Users\\sweet\\AppData\\Local\\Programs\\Python\\Python39\\lib\\site-packages\\pandas\\core\\frame.py:4906: SettingWithCopyWarning: \n",
      "A value is trying to be set on a copy of a slice from a DataFrame\n",
      "\n",
      "See the caveats in the documentation: https://pandas.pydata.org/pandas-docs/stable/user_guide/indexing.html#returning-a-view-versus-a-copy\n",
      "  return super().drop(\n"
     ]
    },
    {
     "data": {
      "text/plain": [
       "(1516, 2)"
      ]
     },
     "execution_count": 7,
     "metadata": {},
     "output_type": "execute_result"
    }
   ],
   "source": [
    "indexnames= df[df[\"types\"]==\"Question\"].index\n",
    "df.drop(indexnames,inplace=True)\n",
    "data= df[df[\"category\"]==2]\n",
    "data.drop(columns=[\"types\",\"category\",\"Unnamed: 0\"],axis=1 ,inplace=True)\n",
    "data.shape"
   ]
  },
  {
   "cell_type": "code",
   "execution_count": 8,
   "id": "857087b3",
   "metadata": {},
   "outputs": [
    {
     "data": {
      "text/html": [
       "<div>\n",
       "<style scoped>\n",
       "    .dataframe tbody tr th:only-of-type {\n",
       "        vertical-align: middle;\n",
       "    }\n",
       "\n",
       "    .dataframe tbody tr th {\n",
       "        vertical-align: top;\n",
       "    }\n",
       "\n",
       "    .dataframe thead th {\n",
       "        text-align: right;\n",
       "    }\n",
       "</style>\n",
       "<table border=\"1\" class=\"dataframe\">\n",
       "  <thead>\n",
       "    <tr style=\"text-align: right;\">\n",
       "      <th></th>\n",
       "      <th>text</th>\n",
       "      <th>values</th>\n",
       "    </tr>\n",
       "  </thead>\n",
       "  <tbody>\n",
       "    <tr>\n",
       "      <th>4</th>\n",
       "      <td>No, I think that as it relates to the one, I ...</td>\n",
       "      <td>1</td>\n",
       "    </tr>\n",
       "    <tr>\n",
       "      <th>10</th>\n",
       "      <td>Well, clearly, it surpassed all of our very hi...</td>\n",
       "      <td>1</td>\n",
       "    </tr>\n",
       "    <tr>\n",
       "      <th>16</th>\n",
       "      <td>I think the last few years, not only for us bu...</td>\n",
       "      <td>1</td>\n",
       "    </tr>\n",
       "    <tr>\n",
       "      <th>22</th>\n",
       "      <td>The core-on-core, well, yes, I don't think the...</td>\n",
       "      <td>0</td>\n",
       "    </tr>\n",
       "    <tr>\n",
       "      <th>28</th>\n",
       "      <td>There's lots of everything, Simeon. We really ...</td>\n",
       "      <td>1</td>\n",
       "    </tr>\n",
       "    <tr>\n",
       "      <th>...</th>\n",
       "      <td>...</td>\n",
       "      <td>...</td>\n",
       "    </tr>\n",
       "    <tr>\n",
       "      <th>8443</th>\n",
       "      <td>Great, Tom. And I think the reason why we beli...</td>\n",
       "      <td>1</td>\n",
       "    </tr>\n",
       "    <tr>\n",
       "      <th>8452</th>\n",
       "      <td>Yes, I mean, as part of our prepared remarks, ...</td>\n",
       "      <td>1</td>\n",
       "    </tr>\n",
       "    <tr>\n",
       "      <th>8458</th>\n",
       "      <td>I'll touch on one, maybe in a little bit of de...</td>\n",
       "      <td>1</td>\n",
       "    </tr>\n",
       "    <tr>\n",
       "      <th>8464</th>\n",
       "      <td>Yes, sure. The performance of RPO, and as we g...</td>\n",
       "      <td>1</td>\n",
       "    </tr>\n",
       "    <tr>\n",
       "      <th>8470</th>\n",
       "      <td>Well, let's start with the first part of your ...</td>\n",
       "      <td>1</td>\n",
       "    </tr>\n",
       "  </tbody>\n",
       "</table>\n",
       "<p>1516 rows × 2 columns</p>\n",
       "</div>"
      ],
      "text/plain": [
       "                                                   text  values\n",
       "4      No, I think that as it relates to the one, I ...       1\n",
       "10    Well, clearly, it surpassed all of our very hi...       1\n",
       "16    I think the last few years, not only for us bu...       1\n",
       "22    The core-on-core, well, yes, I don't think the...       0\n",
       "28    There's lots of everything, Simeon. We really ...       1\n",
       "...                                                 ...     ...\n",
       "8443  Great, Tom. And I think the reason why we beli...       1\n",
       "8452  Yes, I mean, as part of our prepared remarks, ...       1\n",
       "8458  I'll touch on one, maybe in a little bit of de...       1\n",
       "8464  Yes, sure. The performance of RPO, and as we g...       1\n",
       "8470  Well, let's start with the first part of your ...       1\n",
       "\n",
       "[1516 rows x 2 columns]"
      ]
     },
     "execution_count": 8,
     "metadata": {},
     "output_type": "execute_result"
    }
   ],
   "source": [
    "data"
   ]
  },
  {
   "cell_type": "code",
   "execution_count": 9,
   "id": "acf49427",
   "metadata": {},
   "outputs": [
    {
     "data": {
      "text/plain": [
       "1    1262\n",
       "0     254\n",
       "Name: values, dtype: int64"
      ]
     },
     "execution_count": 9,
     "metadata": {},
     "output_type": "execute_result"
    }
   ],
   "source": [
    "data[\"values\"].value_counts()"
   ]
  },
  {
   "cell_type": "markdown",
   "id": "11260817",
   "metadata": {},
   "source": [
    "### Data cleaning"
   ]
  },
  {
   "cell_type": "markdown",
   "id": "d231ca9e",
   "metadata": {},
   "source": [
    "Before converting the input data to different textual models, we need to pre process the data by removing the stopwords,numbers,puncuations, leading and ending white space and converting the lowercases to uppercases.\n",
    "\n",
    "\n",
    "nltk :  By default, NLTK (Natural Language Toolkit) includes a list of 40 stop words, including: “a”, “an”, “the”, “of”, “in”, etc. The stopwords in nltk are the most common words in data.\n",
    "NLTK did not considered the word \"however\" to be a stop word and hence appending it to the list.This shows that there is no hard and fast rule as to what a stop word is and what it isn't.\n",
    "\n",
    "re  : Importing re (regular expression) for fiinding and removing the numbers/digits using re.sub()\n",
    "\n",
    "Snowball is a small string processing language for creating stemming algorithms for use in Information Retrieval, plus a collection of stemming algorithms implemented using it. Here we import the stemmer for english words."
   ]
  },
  {
   "cell_type": "code",
   "execution_count": 10,
   "id": "05cecfc4",
   "metadata": {},
   "outputs": [
    {
     "name": "stderr",
     "output_type": "stream",
     "text": [
      "[nltk_data] Downloading package stopwords to\n",
      "[nltk_data]     C:\\Users\\sweet\\AppData\\Roaming\\nltk_data...\n",
      "[nltk_data]   Package stopwords is already up-to-date!\n"
     ]
    }
   ],
   "source": [
    "import re\n",
    "import string\n",
    "import nltk\n",
    "nltk.download('stopwords')\n",
    "from nltk.corpus import stopwords"
   ]
  },
  {
   "cell_type": "code",
   "execution_count": 11,
   "id": "6b7c7fed",
   "metadata": {},
   "outputs": [],
   "source": [
    "snowStem = nltk.stem.SnowballStemmer('english')\n",
    "sw_nltk = stopwords.words('english')\n",
    "sw_nltk.append('however')\n",
    "\n",
    "def my_preprocessor(processed_data, remove_stopwords = False, stemming = False):\n",
    "    # remove numbers \n",
    "    processed_data = re.sub(r'\\d+', '', processed_data)\n",
    "    # remove punctuation\n",
    "    processed_data = processed_data.translate(str.maketrans('','', string.punctuation))\n",
    "    # remove spaces\n",
    "    processed_data = processed_data.strip()\n",
    "    #upper to lower\n",
    "    processed_data = processed_data.lower()\n",
    "    \n",
    "    if stemming:\n",
    "      # stemming\n",
    "      processed_data = snowStem.stem(processed_data)\n",
    "    \n",
    "    if remove_stopwords:\n",
    "        # remove stop words\n",
    "        processed_data = ' '.join([word for word in processed_data.split() if not(word in sw_nltk)])\n",
    "        \n",
    "    \n",
    "    return processed_data"
   ]
  },
  {
   "cell_type": "code",
   "execution_count": 12,
   "id": "6744d4d4",
   "metadata": {},
   "outputs": [
    {
     "name": "stderr",
     "output_type": "stream",
     "text": [
      "C:\\Users\\sweet\\AppData\\Local\\Programs\\Python\\Python39\\lib\\site-packages\\pandas\\core\\indexing.py:1667: SettingWithCopyWarning: \n",
      "A value is trying to be set on a copy of a slice from a DataFrame.\n",
      "Try using .loc[row_indexer,col_indexer] = value instead\n",
      "\n",
      "See the caveats in the documentation: https://pandas.pydata.org/pandas-docs/stable/user_guide/indexing.html#returning-a-view-versus-a-copy\n",
      "  self.obj[key] = value\n"
     ]
    }
   ],
   "source": [
    "data.loc[:, 'processed_data'] = [my_preprocessor(text, remove_stopwords = True) for text in data.text]"
   ]
  },
  {
   "cell_type": "code",
   "execution_count": 13,
   "id": "46392e97",
   "metadata": {},
   "outputs": [],
   "source": [
    "corpus=[]\n",
    "for text in data[\"text\"]:\n",
    "    corpus.append(my_preprocessor(text, remove_stopwords = True))\n"
   ]
  },
  {
   "cell_type": "code",
   "execution_count": 14,
   "id": "4e2d5634",
   "metadata": {},
   "outputs": [],
   "source": [
    "target=data['values']"
   ]
  },
  {
   "cell_type": "code",
   "execution_count": 15,
   "id": "beb468fb",
   "metadata": {},
   "outputs": [
    {
     "data": {
      "text/html": [
       "<div>\n",
       "<style scoped>\n",
       "    .dataframe tbody tr th:only-of-type {\n",
       "        vertical-align: middle;\n",
       "    }\n",
       "\n",
       "    .dataframe tbody tr th {\n",
       "        vertical-align: top;\n",
       "    }\n",
       "\n",
       "    .dataframe thead th {\n",
       "        text-align: right;\n",
       "    }\n",
       "</style>\n",
       "<table border=\"1\" class=\"dataframe\">\n",
       "  <thead>\n",
       "    <tr style=\"text-align: right;\">\n",
       "      <th></th>\n",
       "      <th>text</th>\n",
       "      <th>processed_data</th>\n",
       "      <th>values</th>\n",
       "    </tr>\n",
       "  </thead>\n",
       "  <tbody>\n",
       "    <tr>\n",
       "      <th>4</th>\n",
       "      <td>No, I think that as it relates to the one, I ...</td>\n",
       "      <td>think relates one think weve got currently und...</td>\n",
       "      <td>1</td>\n",
       "    </tr>\n",
       "    <tr>\n",
       "      <th>10</th>\n",
       "      <td>Well, clearly, it surpassed all of our very hi...</td>\n",
       "      <td>well clearly surpassed high expectations said ...</td>\n",
       "      <td>1</td>\n",
       "    </tr>\n",
       "    <tr>\n",
       "      <th>16</th>\n",
       "      <td>I think the last few years, not only for us bu...</td>\n",
       "      <td>think last years us big gas retailers supermar...</td>\n",
       "      <td>1</td>\n",
       "    </tr>\n",
       "    <tr>\n",
       "      <th>22</th>\n",
       "      <td>The core-on-core, well, yes, I don't think the...</td>\n",
       "      <td>coreoncore well yes dont think big surprises a...</td>\n",
       "      <td>0</td>\n",
       "    </tr>\n",
       "    <tr>\n",
       "      <th>28</th>\n",
       "      <td>There's lots of everything, Simeon. We really ...</td>\n",
       "      <td>theres lots everything simeon really dont talk...</td>\n",
       "      <td>1</td>\n",
       "    </tr>\n",
       "    <tr>\n",
       "      <th>...</th>\n",
       "      <td>...</td>\n",
       "      <td>...</td>\n",
       "      <td>...</td>\n",
       "    </tr>\n",
       "    <tr>\n",
       "      <th>8443</th>\n",
       "      <td>Great, Tom. And I think the reason why we beli...</td>\n",
       "      <td>great tom think reason believe midmarket oppor...</td>\n",
       "      <td>1</td>\n",
       "    </tr>\n",
       "    <tr>\n",
       "      <th>8452</th>\n",
       "      <td>Yes, I mean, as part of our prepared remarks, ...</td>\n",
       "      <td>yes mean part prepared remarks talked fact ado...</td>\n",
       "      <td>1</td>\n",
       "    </tr>\n",
       "    <tr>\n",
       "      <th>8458</th>\n",
       "      <td>I'll touch on one, maybe in a little bit of de...</td>\n",
       "      <td>ill touch one maybe little bit detail adobe ex...</td>\n",
       "      <td>1</td>\n",
       "    </tr>\n",
       "    <tr>\n",
       "      <th>8464</th>\n",
       "      <td>Yes, sure. The performance of RPO, and as we g...</td>\n",
       "      <td>yes sure performance rpo go forward youll star...</td>\n",
       "      <td>1</td>\n",
       "    </tr>\n",
       "    <tr>\n",
       "      <th>8470</th>\n",
       "      <td>Well, let's start with the first part of your ...</td>\n",
       "      <td>well lets start first part question see busine...</td>\n",
       "      <td>1</td>\n",
       "    </tr>\n",
       "  </tbody>\n",
       "</table>\n",
       "<p>1516 rows × 3 columns</p>\n",
       "</div>"
      ],
      "text/plain": [
       "                                                   text  \\\n",
       "4      No, I think that as it relates to the one, I ...   \n",
       "10    Well, clearly, it surpassed all of our very hi...   \n",
       "16    I think the last few years, not only for us bu...   \n",
       "22    The core-on-core, well, yes, I don't think the...   \n",
       "28    There's lots of everything, Simeon. We really ...   \n",
       "...                                                 ...   \n",
       "8443  Great, Tom. And I think the reason why we beli...   \n",
       "8452  Yes, I mean, as part of our prepared remarks, ...   \n",
       "8458  I'll touch on one, maybe in a little bit of de...   \n",
       "8464  Yes, sure. The performance of RPO, and as we g...   \n",
       "8470  Well, let's start with the first part of your ...   \n",
       "\n",
       "                                         processed_data  values  \n",
       "4     think relates one think weve got currently und...       1  \n",
       "10    well clearly surpassed high expectations said ...       1  \n",
       "16    think last years us big gas retailers supermar...       1  \n",
       "22    coreoncore well yes dont think big surprises a...       0  \n",
       "28    theres lots everything simeon really dont talk...       1  \n",
       "...                                                 ...     ...  \n",
       "8443  great tom think reason believe midmarket oppor...       1  \n",
       "8452  yes mean part prepared remarks talked fact ado...       1  \n",
       "8458  ill touch one maybe little bit detail adobe ex...       1  \n",
       "8464  yes sure performance rpo go forward youll star...       1  \n",
       "8470  well lets start first part question see busine...       1  \n",
       "\n",
       "[1516 rows x 3 columns]"
      ]
     },
     "execution_count": 15,
     "metadata": {},
     "output_type": "execute_result"
    }
   ],
   "source": [
    "#re-arranging the df .\n",
    "\n",
    "data = data[['text','processed_data','values']]\n",
    "data"
   ]
  },
  {
   "cell_type": "markdown",
   "id": "6b01e4fd",
   "metadata": {},
   "source": [
    "We should transform our text data into something that our machine learning model understands. Basically, we need to convert the text into an array of vector embeddings. \n",
    "\n",
    "Here we will be converting the cleaned input data into 4 different textual represenations.\n",
    "- Frequency embedding methods used - Bag of words and TF-IDF\n",
    "- Topic embedding method used - LSA\n",
    "- Word embedding method used - Word2Vec\n",
    "\n",
    "we will train the models with logistic Regression and Random Forest classifier."
   ]
  },
  {
   "cell_type": "markdown",
   "id": "4ef873d5",
   "metadata": {},
   "source": [
    "### Defining Functions for traing and validating models"
   ]
  },
  {
   "cell_type": "markdown",
   "id": "8eb90c9d",
   "metadata": {},
   "source": [
    "To train and validate the classification model, we defined seperate functions. \n",
    "We import RandomForestClassifier and LogisticRegression from sklearn.\n",
    "\n",
    "- Logistic regression is a simple yet very effective classification algorithm and it is commonly used for many binary classification tasks.\n",
    "- We also wanted to try an ensemble learning algorithm for textual classification because it reduces the variance of predictions and also can result in predictions that are better than any single model.Hence we used randomForest classifier."
   ]
  },
  {
   "cell_type": "markdown",
   "id": "7fca0b64",
   "metadata": {},
   "source": [
    "Below functions will take the training and testing data as input and returns the fitted model. As an evaluation metrics, it prints the accuracy of the model."
   ]
  },
  {
   "cell_type": "code",
   "execution_count": 16,
   "id": "5b962b1e",
   "metadata": {},
   "outputs": [],
   "source": [
    "from sklearn.ensemble import RandomForestClassifier\n",
    "from sklearn.linear_model import LogisticRegression"
   ]
  },
  {
   "cell_type": "code",
   "execution_count": 17,
   "id": "e9291dfa",
   "metadata": {},
   "outputs": [],
   "source": [
    "#Classification implementation\n",
    "\n",
    "def logistic_reg_train_model(xtrain,ytrain,xtest,ytest):\n",
    "    log_reg = LogisticRegression(random_state=0)\n",
    "    log_reg.fit(xtrain,ytrain)\n",
    "    y_pred = log_reg.predict(xtest)\n",
    "    log_accuracy = accuracy_score(ytest,y_pred)\n",
    "    print (str(log_accuracy)+(\" is the accuracy of the logistic regression model\"))\n",
    "    return log_reg\n",
    "    \n",
    "def Random_forest_train_model(xtrain,ytrain,xtest,ytest):\n",
    "    rf = RandomForestClassifier(n_estimators=100, random_state=42)\n",
    "    rf.fit(xtrain, ytrain)\n",
    "    predict_tfidf = rf.predict(xtest)\n",
    "    rf_acc= accuracy_score(ytest,predict_tfidf)\n",
    "    print(str(rf_acc)+(\" is the accuracy of the RandomForestClassifier model\"))\n",
    "    return rf\n"
   ]
  },
  {
   "cell_type": "markdown",
   "id": "e058b2bb",
   "metadata": {},
   "source": [
    "These functions will take the validation data and the fitted model that is returened by the above function as input.\n",
    "It prints the accuracy and returns the class probabilities for each data point(using  `predict_proba` method)"
   ]
  },
  {
   "cell_type": "code",
   "execution_count": 18,
   "id": "3218fe40",
   "metadata": {},
   "outputs": [],
   "source": [
    "#validation\n",
    "\n",
    "def logistic_reg_val_model(x_validation,y_validation,  log_reg):\n",
    "    y_pred_lr = log_reg.predict(x_validation)\n",
    "    yprob_lr = log_reg.predict_proba(x_validation)\n",
    "    log_accuracy = accuracy_score(y_validation,y_pred_lr)\n",
    "    print (str(log_accuracy)+(\" is the Val_accuracy of the logistic regression model\"))\n",
    "    return yprob_lr\n",
    "\n",
    "def random_forest_val_model(x_validation,y_validation, rf):\n",
    "    y_pred_rf = rf.predict(x_validation)\n",
    "    yprob_rf = rf.predict_proba(x_validation)\n",
    "    rf_acc= accuracy_score(y_validation,y_pred_rf)\n",
    "    print(str(rf_acc)+(\" is the Val_accuracy of the RandomForestClassifier model\"))\n",
    "    return yprob_rf"
   ]
  },
  {
   "cell_type": "markdown",
   "id": "2f604702",
   "metadata": {},
   "source": [
    "### Defining Functions to plot evaluation metrices"
   ]
  },
  {
   "cell_type": "markdown",
   "id": "2d46d35e",
   "metadata": {},
   "source": [
    "- To evaluate the models we will be using both the ROC curve and Precision Recall curve. \n",
    "- Since the data is highly imbalanced, we would like to focus on the Precision Recall curve along with the accuracy of the model.\n",
    "\n",
    "Below are the functions defined for ploting the curves for which we use sklearn and matplotlib."
   ]
  },
  {
   "cell_type": "code",
   "execution_count": 19,
   "id": "588319d7",
   "metadata": {},
   "outputs": [],
   "source": [
    "from sklearn.metrics import roc_curve, auc,precision_recall_curve,average_precision_score,plot_precision_recall_curve, accuracy_score\n",
    "import matplotlib.pyplot as plt\n"
   ]
  },
  {
   "cell_type": "code",
   "execution_count": 20,
   "id": "d605b23f",
   "metadata": {},
   "outputs": [],
   "source": [
    "def print_roc(y_validation,yhat_lr,yhat_rf):\n",
    "    fpr_lr, tpr_lr, threshold = roc_curve(y_validation, yhat_lr[:,1])\n",
    "    roc_auc_lr = auc(fpr_lr, tpr_lr)\n",
    "    fpr_rf, tpr_rf, threshold = roc_curve(y_validation, yhat_rf[:,1])\n",
    "    roc_auc_rf = auc(fpr_rf, tpr_rf)\n",
    "    plt.figure(figsize=(6,6))\n",
    "    plt.plot(fpr_lr, tpr_lr, label='logisticReg (area = %0.3f)' % roc_auc_lr, linewidth=2)\n",
    "    plt.plot(fpr_rf, tpr_rf, label='RandomForest (area = %0.3f)' % roc_auc_rf, linewidth=2)\n",
    "    plt.plot([0, 1], [0, 1], 'k--', linewidth=2)\n",
    "    plt.xlim([-0.05, 1.0])\n",
    "    plt.ylim([-0.05, 1.05])\n",
    "    plt.xlabel('False Positive Rate', fontsize=18)\n",
    "    plt.ylabel('True Positive Rate', fontsize=18)\n",
    "    plt.title('Receiver operating characteristic: is positive', fontsize=18)\n",
    "    plt.legend(loc=\"lower right\")\n",
    "    plt.show()"
   ]
  },
  {
   "cell_type": "code",
   "execution_count": 21,
   "id": "57420490",
   "metadata": {},
   "outputs": [],
   "source": [
    "\n",
    "def print_precision_recall_curve(y_validation,yhat_lr,yhat_rf):\n",
    "    average_precision_lr = average_precision_score(y_validation, yhat_lr[:,1])\n",
    "    print('average precision Logistic Regression :%0.3f' %average_precision_lr)\n",
    "    average_precision_rf = average_precision_score(y_validation, yhat_rf[:,1])\n",
    "    print('average precision Random Forest :%0.3f' %average_precision_rf)\n",
    "    precision_lr, recall_lr, thresholds = precision_recall_curve(y_validation, yhat_lr[:,1])\n",
    "    precision_rf, recall_rf, thresholds = precision_recall_curve(y_validation, yhat_rf[:,1])\n",
    "    auc_precision_recall_lr = auc(recall_lr, precision_lr)\n",
    "    auc_precision_recall_rf = auc(recall_rf, precision_rf)\n",
    "    plt.figure(figsize=(6,6))\n",
    "    plt.xlabel('Recall', fontsize=14)\n",
    "    plt.ylabel('Precision', fontsize=14)\n",
    "    plt.title('Precision- Recall Curve', fontsize=16)\n",
    "    plt.plot(recall_lr, precision_lr,label='logisticReg (area = %0.3f)' %auc_precision_recall_lr )\n",
    "    plt.plot(recall_rf, precision_rf,label=' RandomForest (area = %0.3f)' %auc_precision_recall_rf )\n",
    "    plt.legend(loc=\"upper right\")\n",
    "    plt.show()\n",
    "    "
   ]
  },
  {
   "cell_type": "markdown",
   "id": "4aaffdd1",
   "metadata": {},
   "source": [
    "#  Implementing Bag Of Words"
   ]
  },
  {
   "cell_type": "markdown",
   "id": "70b2ce82",
   "metadata": {},
   "source": [
    "First textual model we implement is bag of Words where we just keep track of word counts and disregard the grammatical details and the word order.\n",
    "By using the BoW technique, we convert a text into its equivalent vector of numbers.\n",
    "\n",
    "For this we need CountVectorize provided by the scikit-learn library.It is used to transform a given text into a vector on the basis of the frequency of each word that occurs in the entire text.\n"
   ]
  },
  {
   "cell_type": "code",
   "execution_count": 22,
   "id": "89f6f048",
   "metadata": {},
   "outputs": [],
   "source": [
    "from sklearn.feature_extraction.text import CountVectorizer,TfidfVectorizer"
   ]
  },
  {
   "cell_type": "code",
   "execution_count": 23,
   "id": "d4415a5f",
   "metadata": {},
   "outputs": [
    {
     "data": {
      "text/plain": [
       "array([[0, 0, 0, ..., 0, 0, 0],\n",
       "       [0, 0, 0, ..., 0, 0, 0],\n",
       "       [0, 0, 0, ..., 0, 0, 0],\n",
       "       ...,\n",
       "       [0, 0, 0, ..., 0, 0, 0],\n",
       "       [0, 0, 0, ..., 0, 0, 0],\n",
       "       [0, 0, 0, ..., 0, 0, 0]], dtype=int64)"
      ]
     },
     "execution_count": 23,
     "metadata": {},
     "output_type": "execute_result"
    }
   ],
   "source": [
    "cv=CountVectorizer(ngram_range = (1,2), min_df= 2)\n",
    "cv.fit(data['processed_data'])\n",
    "bow = cv.transform(data['processed_data'])\n",
    "data_in=bow.toarray()\n",
    "data_in"
   ]
  },
  {
   "cell_type": "code",
   "execution_count": 24,
   "id": "8ac13590",
   "metadata": {},
   "outputs": [
    {
     "data": {
      "text/html": [
       "<div>\n",
       "<style scoped>\n",
       "    .dataframe tbody tr th:only-of-type {\n",
       "        vertical-align: middle;\n",
       "    }\n",
       "\n",
       "    .dataframe tbody tr th {\n",
       "        vertical-align: top;\n",
       "    }\n",
       "\n",
       "    .dataframe thead th {\n",
       "        text-align: right;\n",
       "    }\n",
       "</style>\n",
       "<table border=\"1\" class=\"dataframe\">\n",
       "  <thead>\n",
       "    <tr style=\"text-align: right;\">\n",
       "      <th></th>\n",
       "      <th>frequency</th>\n",
       "    </tr>\n",
       "  </thead>\n",
       "  <tbody>\n",
       "    <tr>\n",
       "      <th>aaa</th>\n",
       "      <td>2</td>\n",
       "    </tr>\n",
       "    <tr>\n",
       "      <th>aah</th>\n",
       "      <td>5</td>\n",
       "    </tr>\n",
       "    <tr>\n",
       "      <th>aat</th>\n",
       "      <td>6</td>\n",
       "    </tr>\n",
       "    <tr>\n",
       "      <th>aat levels</th>\n",
       "      <td>2</td>\n",
       "    </tr>\n",
       "    <tr>\n",
       "      <th>ability</th>\n",
       "      <td>85</td>\n",
       "    </tr>\n",
       "    <tr>\n",
       "      <th>...</th>\n",
       "      <td>...</td>\n",
       "    </tr>\n",
       "    <tr>\n",
       "      <th>youve seen</th>\n",
       "      <td>24</td>\n",
       "    </tr>\n",
       "    <tr>\n",
       "      <th>zero</th>\n",
       "      <td>19</td>\n",
       "    </tr>\n",
       "    <tr>\n",
       "      <th>zero apr</th>\n",
       "      <td>2</td>\n",
       "    </tr>\n",
       "    <tr>\n",
       "      <th>zero billion</th>\n",
       "      <td>2</td>\n",
       "    </tr>\n",
       "    <tr>\n",
       "      <th>zero impact</th>\n",
       "      <td>2</td>\n",
       "    </tr>\n",
       "  </tbody>\n",
       "</table>\n",
       "<p>14878 rows × 1 columns</p>\n",
       "</div>"
      ],
      "text/plain": [
       "              frequency\n",
       "aaa                   2\n",
       "aah                   5\n",
       "aat                   6\n",
       "aat levels            2\n",
       "ability              85\n",
       "...                 ...\n",
       "youve seen           24\n",
       "zero                 19\n",
       "zero apr              2\n",
       "zero billion          2\n",
       "zero impact           2\n",
       "\n",
       "[14878 rows x 1 columns]"
      ]
     },
     "execution_count": 24,
     "metadata": {},
     "output_type": "execute_result"
    }
   ],
   "source": [
    "term_freqs = pd.DataFrame(data = data_in.sum(axis = 0),\n",
    "                          index=cv.get_feature_names_out(),\n",
    "                          columns = ['frequency'])\n",
    "term_freqs"
   ]
  },
  {
   "cell_type": "markdown",
   "id": "228d478a",
   "metadata": {},
   "source": [
    "Now after getting the term frequencies, we need to split the data into test and train set. For this we used `train_test_split` from sklearn.\n",
    "First we divided the data set into two subsets- train and test- in the ratio 70/30. The test data set is again split into two subsets in the ratio 50/50, test and validation, where the validation set is used to evaluate the modal once in the end. "
   ]
  },
  {
   "cell_type": "code",
   "execution_count": 25,
   "id": "69bd979c",
   "metadata": {},
   "outputs": [],
   "source": [
    "from sklearn.model_selection import train_test_split"
   ]
  },
  {
   "cell_type": "code",
   "execution_count": 26,
   "id": "760ff7fd",
   "metadata": {},
   "outputs": [],
   "source": [
    "\n",
    "SEED = 42\n",
    "xtrain, x_validation_and_test, ytrain, y_validation_and_test = train_test_split(data_in, target, test_size=.3, random_state=SEED)\n",
    "x_validation, xtest, y_validation, ytest = train_test_split(x_validation_and_test, y_validation_and_test, test_size=.5, random_state=SEED)"
   ]
  },
  {
   "cell_type": "code",
   "execution_count": 27,
   "id": "1b632871",
   "metadata": {},
   "outputs": [
    {
     "name": "stdout",
     "output_type": "stream",
     "text": [
      "0.8464912280701754 is the accuracy of the logistic regression model\n",
      "0.868421052631579 is the accuracy of the RandomForestClassifier model\n"
     ]
    }
   ],
   "source": [
    "log_reg = logistic_reg_train_model(xtrain,ytrain,xtest,ytest)\n",
    "rf = Random_forest_train_model(xtrain,ytrain,xtest,ytest)"
   ]
  },
  {
   "cell_type": "code",
   "execution_count": 28,
   "id": "00ca8c4c",
   "metadata": {},
   "outputs": [
    {
     "name": "stdout",
     "output_type": "stream",
     "text": [
      "0.8458149779735683 is the Val_accuracy of the logistic regression model\n",
      "0.8370044052863436 is the Val_accuracy of the RandomForestClassifier model\n"
     ]
    }
   ],
   "source": [
    "yhat_lr = logistic_reg_val_model(x_validation,y_validation,log_reg)\n",
    "yhat_rf = random_forest_val_model(x_validation,y_validation,rf)"
   ]
  },
  {
   "cell_type": "code",
   "execution_count": 29,
   "id": "2c2257d2",
   "metadata": {},
   "outputs": [
    {
     "data": {
      "image/png": "[encoded data removed]",
      "text/plain": [
       "<Figure size 432x432 with 1 Axes>"
      ]
     },
     "metadata": {
      "needs_background": "light"
     },
     "output_type": "display_data"
    }
   ],
   "source": [
    "print_roc(y_validation,yhat_lr,yhat_rf)"
   ]
  },
  {
   "cell_type": "code",
   "execution_count": 30,
   "id": "d047443f",
   "metadata": {},
   "outputs": [
    {
     "name": "stdout",
     "output_type": "stream",
     "text": [
      "average precision Logistic Regression :0.924\n",
      "average precision Random Forest :0.872\n"
     ]
    },
    {
     "data": {
      "image/png": "[encoded data removed]",
      "text/plain": [
       "<Figure size 432x432 with 1 Axes>"
      ]
     },
     "metadata": {
      "needs_background": "light"
     },
     "output_type": "display_data"
    }
   ],
   "source": [
    "print_precision_recall_curve(y_validation,yhat_lr,yhat_rf)"
   ]
  },
  {
   "cell_type": "markdown",
   "id": "6f899d32",
   "metadata": {},
   "source": [
    "From the above graphs, we can see that the ROC curve alone is not enough to understand how the model performs. Hence by looking at the Precision recall curve, its evident that the area under the curve for logistic regression model is high which relates to a low false positive and false negative rate."
   ]
  },
  {
   "cell_type": "markdown",
   "id": "bad4634e",
   "metadata": {},
   "source": [
    "# Implementing TFIDF "
   ]
  },
  {
   "cell_type": "markdown",
   "id": "d94b1b39",
   "metadata": {},
   "source": [
    "The next input representation we tried is Term Frequency-Inverse Document Frequency. Which is also a frequency method.\n",
    "We used TfidfVectorizer to convert the `processed_data` to a matrix of TF-IDF features. \n",
    "`min_df` is set to 2, because for frequency <2, these words could be ignored as they do not provide enough information on the entire dataset as a whole but only a couple of particular documents. When set to >2, the performance degrades. \n",
    "By setting `max_features` ,We are only selecting 1000 most common words in the data as features."
   ]
  },
  {
   "cell_type": "code",
   "execution_count": 31,
   "id": "6b222cc6",
   "metadata": {},
   "outputs": [],
   "source": [
    "vect =TfidfVectorizer(ngram_range = (1, 2), min_df= 2, max_features=1000) \n",
    "vect_text=vect.fit_transform(data['processed_data'])"
   ]
  },
  {
   "cell_type": "code",
   "execution_count": 32,
   "id": "547d2c03",
   "metadata": {},
   "outputs": [
    {
     "name": "stdout",
     "output_type": "stream",
     "text": [
      "  (0, 229)\t0.18736693032840473\n",
      "  (0, 878)\t0.1974788596021854\n",
      "  (0, 963)\t0.1745617255055031\n",
      "  (0, 964)\t0.15913084238122918\n",
      "  (0, 871)\t0.18611904015603445\n",
      "  (0, 605)\t0.14349912902585799\n",
      "  (0, 37)\t0.15199135681909745\n",
      "  (0, 39)\t0.1913766608095672\n",
      "  (0, 72)\t0.16643368461081745\n",
      "  (0, 567)\t0.17547881182085245\n",
      "  (0, 883)\t0.1783706257555684\n",
      "  (0, 381)\t0.15051798931909016\n",
      "  (0, 976)\t0.12272027394791066\n",
      "  (0, 612)\t0.12536253131313785\n",
      "  (0, 334)\t0.10037652826924313\n",
      "  (0, 942)\t0.11206306966695159\n",
      "  (0, 225)\t0.20721186769057484\n",
      "  (0, 881)\t0.09508562988664553\n",
      "  (0, 672)\t0.13897214633118582\n",
      "  (0, 905)\t0.1481824565690322\n",
      "  (0, 694)\t0.15736041895922187\n",
      "  (0, 988)\t0.22771711096139138\n",
      "  (0, 455)\t0.10577296550003445\n",
      "  (0, 224)\t0.12928943860496964\n",
      "  (0, 315)\t0.34056224768374843\n",
      "  :\t:\n",
      "  (1515, 604)\t0.12179154449561301\n",
      "  (1515, 367)\t0.39099639847044065\n",
      "  (1515, 895)\t0.1292251200952837\n",
      "  (1515, 182)\t0.08628324171613465\n",
      "  (1515, 362)\t0.06327191782100482\n",
      "  (1515, 598)\t0.1597071461024959\n",
      "  (1515, 743)\t0.08496726916324183\n",
      "  (1515, 368)\t0.0997891154550477\n",
      "  (1515, 90)\t0.12385895608541658\n",
      "  (1515, 451)\t0.0687334150316095\n",
      "  (1515, 163)\t0.06236896625653473\n",
      "  (1515, 856)\t0.07321670964741\n",
      "  (1515, 965)\t0.0997891154550477\n",
      "  (1515, 749)\t0.07854637403580617\n",
      "  (1515, 679)\t0.06428853594615294\n",
      "  (1515, 747)\t0.21157980245862196\n",
      "  (1515, 266)\t0.08442389446253115\n",
      "  (1515, 924)\t0.10313419022943518\n",
      "  (1515, 47)\t0.09787250186796692\n",
      "  (1515, 986)\t0.11424838400864346\n",
      "  (1515, 302)\t0.0588594788542652\n",
      "  (1515, 795)\t0.2522043644157826\n",
      "  (1515, 957)\t0.09584096485701321\n",
      "  (1515, 962)\t0.05618431873435301\n",
      "  (1515, 706)\t0.11672118008564367\n"
     ]
    },
    {
     "data": {
      "text/plain": [
       "<1516x1000 sparse matrix of type '<class 'numpy.float64'>'\n",
       "\twith 62268 stored elements in Compressed Sparse Row format>"
      ]
     },
     "execution_count": 32,
     "metadata": {},
     "output_type": "execute_result"
    }
   ],
   "source": [
    "print(vect_text)\n",
    "vect_text"
   ]
  },
  {
   "cell_type": "markdown",
   "id": "318788e7",
   "metadata": {},
   "source": [
    "\n",
    "Note that we are printing a sparse matrix so the output looks different compared to printing a standard dense matrix.\n",
    "\n",
    "The main components:\n",
    "- The tuple represents: (document_id, token_id)\n",
    "- The value following the tuple represents: the tf-idf score of a given token in a given document\n",
    "- The tuples that are not there have a tf-idf score of 0"
   ]
  },
  {
   "cell_type": "code",
   "execution_count": 33,
   "id": "365bb939",
   "metadata": {},
   "outputs": [],
   "source": [
    "SEED = 42\n",
    "xtrain, x_validation_and_test, ytrain, y_validation_and_test = train_test_split(vect_text, target, test_size=.3, random_state=SEED)\n",
    "x_validation, xtest, y_validation, ytest = train_test_split(x_validation_and_test, y_validation_and_test, test_size=.5, random_state=SEED)"
   ]
  },
  {
   "cell_type": "code",
   "execution_count": 34,
   "id": "cd1729ad",
   "metadata": {},
   "outputs": [
    {
     "name": "stdout",
     "output_type": "stream",
     "text": [
      "0.868421052631579 is the accuracy of the logistic regression model\n",
      "0.8728070175438597 is the accuracy of the RandomForestClassifier model\n"
     ]
    }
   ],
   "source": [
    "log_reg = logistic_reg_train_model(xtrain,ytrain,xtest,ytest)\n",
    "rf = Random_forest_train_model(xtrain,ytrain,xtest,ytest)"
   ]
  },
  {
   "cell_type": "code",
   "execution_count": 35,
   "id": "3bc56071",
   "metadata": {},
   "outputs": [
    {
     "name": "stdout",
     "output_type": "stream",
     "text": [
      "0.8370044052863436 is the Val_accuracy of the logistic regression model\n",
      "0.8414096916299559 is the Val_accuracy of the RandomForestClassifier model\n"
     ]
    }
   ],
   "source": [
    "yhat_lr = logistic_reg_val_model(x_validation,y_validation, log_reg)\n",
    "yhat_rf = random_forest_val_model(x_validation,y_validation, rf)"
   ]
  },
  {
   "cell_type": "code",
   "execution_count": 36,
   "id": "478f508f",
   "metadata": {},
   "outputs": [
    {
     "data": {
      "image/png": "[encoded data removed]",
      "text/plain": [
       "<Figure size 432x432 with 1 Axes>"
      ]
     },
     "metadata": {
      "needs_background": "light"
     },
     "output_type": "display_data"
    }
   ],
   "source": [
    "print_roc(y_validation,yhat_lr,yhat_rf)"
   ]
  },
  {
   "cell_type": "code",
   "execution_count": 37,
   "id": "70e836cf",
   "metadata": {},
   "outputs": [
    {
     "name": "stdout",
     "output_type": "stream",
     "text": [
      "average precision Logistic Regression :0.928\n",
      "average precision Random Forest :0.916\n"
     ]
    },
    {
     "data": {
      "image/png": "[encoded data removed]",
      "text/plain": [
       "<Figure size 432x432 with 1 Axes>"
      ]
     },
     "metadata": {
      "needs_background": "light"
     },
     "output_type": "display_data"
    }
   ],
   "source": [
    "print_precision_recall_curve(y_validation,yhat_lr,yhat_rf)"
   ]
  },
  {
   "cell_type": "markdown",
   "id": "8d460899",
   "metadata": {},
   "source": [
    "Similar to BOW method, the area under precision recall curve is high for TF-IDF but comparitively better ROC curve. "
   ]
  },
  {
   "cell_type": "markdown",
   "id": "2e240dd9",
   "metadata": {},
   "source": [
    "# LSA topic modelling"
   ]
  },
  {
   "cell_type": "markdown",
   "id": "ea541ab3",
   "metadata": {},
   "source": [
    "For topic modelling methods, we are implementing LSA, which is basically singular value decomposition.\n",
    "We use the truncatedSVD function to implement LSA. In particular, truncated SVD works on tf-idf matrices.In that\n",
    "context, it is known as latent semantic analysis (LSA).\n",
    "\n",
    "The `n_components` parameter is the number of topics we wish to extract. `n_iter` is the number of iterations for randomized SVD solver.\n",
    "\n",
    "The model is then fit and transformed on the result given by vectorizer, in our case,`vect_text`"
   ]
  },
  {
   "cell_type": "code",
   "execution_count": 38,
   "id": "be541708",
   "metadata": {},
   "outputs": [],
   "source": [
    "from sklearn.decomposition import TruncatedSVD\n"
   ]
  },
  {
   "cell_type": "code",
   "execution_count": 39,
   "id": "306b5c14",
   "metadata": {},
   "outputs": [
    {
     "name": "stdout",
     "output_type": "stream",
     "text": [
      "[[ 0.25674434 -0.14594898 -0.05785493 ... -0.03850895 -0.01641734\n",
      "  -0.06988173]\n",
      " [ 0.32815178 -0.02816948 -0.01904306 ... -0.01186182 -0.03907179\n",
      "  -0.05854045]\n",
      " [ 0.2675077   0.02529883 -0.08297604 ... -0.05920995 -0.15866344\n",
      "  -0.03913549]\n",
      " ...\n",
      " [ 0.32768822 -0.12989532  0.03838034 ...  0.05670951 -0.13425608\n",
      "  -0.02983436]\n",
      " [ 0.25275698  0.09701607 -0.06105851 ... -0.07478824  0.14431388\n",
      "   0.12948378]\n",
      " [ 0.23542575  0.03234139 -0.00728023 ... -0.04781513  0.09940278\n",
      "  -0.02798296]]\n",
      "(1516, 10)\n"
     ]
    }
   ],
   "source": [
    "lsa_model = TruncatedSVD(n_components=10, algorithm='randomized', n_iter=10, random_state=42)\n",
    "lsa=lsa_model.fit(vect_text)\n",
    "lsa = lsa.transform(vect_text)\n",
    "print(lsa)\n",
    "print(lsa.shape)"
   ]
  },
  {
   "cell_type": "code",
   "execution_count": 40,
   "id": "9df713b8",
   "metadata": {},
   "outputs": [
    {
     "name": "stdout",
     "output_type": "stream",
     "text": [
      "(10, 1000)\n",
      "[[ 0.02365243  0.05829043  0.01342356 ...  0.01211691  0.02143617\n",
      "   0.0087154 ]\n",
      " [-0.02198967 -0.05650072 -0.00087921 ... -0.00612958 -0.01455889\n",
      "  -0.0014916 ]\n",
      " [ 0.01319814  0.03700712  0.0036878  ... -0.01304037 -0.01732791\n",
      "  -0.01001207]\n",
      " ...\n",
      " [ 0.00876168  0.034043   -0.00165268 ...  0.012525   -0.00817255\n",
      "  -0.01501864]\n",
      " [-0.00375625  0.00895033  0.01593203 ... -0.0107666  -0.00067362\n",
      "   0.00994596]\n",
      " [-0.0080326  -0.01445718  0.01236531 ...  0.01067004 -0.01094246\n",
      "   0.00522221]]\n"
     ]
    }
   ],
   "source": [
    "print(lsa_model.components_.shape) # (no_of_topics*no_of_words)\n",
    "print(lsa_model.components_)"
   ]
  },
  {
   "cell_type": "code",
   "execution_count": 41,
   "id": "efab64cc",
   "metadata": {},
   "outputs": [
    {
     "name": "stdout",
     "output_type": "stream",
     "text": [
      "Document 1 :\n",
      "Topic  0  :  25.67443407023883\n",
      "Topic  1  :  -14.594897735797153\n",
      "Topic  2  :  -5.785492722123198\n",
      "Topic  3  :  8.521294858215404\n",
      "Topic  4  :  1.7727802608514518\n",
      "Topic  5  :  -6.689250632013877\n",
      "Topic  6  :  -10.380711973500677\n",
      "Topic  7  :  -3.850895155279159\n",
      "Topic  8  :  -1.64173449642345\n",
      "Topic  9  :  -6.9881731842950465\n"
     ]
    }
   ],
   "source": [
    "#printing the topics we extracted from the first document.\n",
    "\n",
    "l=lsa[0]\n",
    "print(\"Document 1 :\")\n",
    "for i,topic in enumerate(l):\n",
    "  print(\"Topic \",i,\" : \",topic*100)"
   ]
  },
  {
   "cell_type": "code",
   "execution_count": 42,
   "id": "fc7f31bf",
   "metadata": {},
   "outputs": [
    {
     "name": "stdout",
     "output_type": "stream",
     "text": [
      "Topic 0: \n",
      "think going well us year really weve thats business see \n",
      "\n",
      "Topic 1: \n",
      "we quarter re we re year it growth revenue ve we ve \n",
      "\n",
      "Topic 2: \n",
      "we re we re it ve we ve that ll we ll users \n",
      "\n",
      "Topic 3: \n",
      "patients data first year would question yes dont studies first question \n",
      "\n",
      "Topic 4: \n",
      "yes think little dont yes think bit little bit way going way think \n",
      "\n",
      "Topic 5: \n",
      "yes customers also year across platform customer mentioned products new \n",
      "\n",
      "Topic 6: \n",
      "quarter patients think third quarter third product fourth quarter margin data fourth \n",
      "\n",
      "Topic 7: \n",
      "margin gross gross margin going one cost price product margins get \n",
      "\n",
      "Topic 8: \n",
      "think business margin growth patients well revenue gross continue gross margin \n",
      "\n",
      "Topic 9: \n",
      "business dont patients would growth know say going yes get \n",
      "\n"
     ]
    },
    {
     "name": "stderr",
     "output_type": "stream",
     "text": [
      "C:\\Users\\sweet\\AppData\\Local\\Programs\\Python\\Python39\\lib\\site-packages\\sklearn\\utils\\deprecation.py:87: FutureWarning: Function get_feature_names is deprecated; get_feature_names is deprecated in 1.0 and will be removed in 1.2. Please use get_feature_names_out instead.\n",
      "  warnings.warn(msg, category=FutureWarning)\n"
     ]
    }
   ],
   "source": [
    "# Print the Keywords in the 10 topics\n",
    "\n",
    "vocab = vect.get_feature_names()\n",
    "\n",
    "for i, comp in enumerate(lsa_model.components_):\n",
    "    vocab_comp = zip(vocab, comp)\n",
    "    sorted_words = sorted(vocab_comp, key= lambda x:x[1], reverse=True)[:10]\n",
    "    print(\"Topic \"+str(i)+\": \")\n",
    "    for t in sorted_words:\n",
    "        print(t[0],end=\" \")\n",
    "    print(\"\\n\")"
   ]
  },
  {
   "cell_type": "code",
   "execution_count": 43,
   "id": "ee107a90",
   "metadata": {},
   "outputs": [],
   "source": [
    "\n",
    "SEED = 42\n",
    "xtrain, x_validation_and_test, ytrain, y_validation_and_test = train_test_split(lsa, target, test_size=.3, random_state=SEED)\n",
    "x_validation, xtest, y_validation, ytest = train_test_split(x_validation_and_test, y_validation_and_test, test_size=.5, random_state=SEED)"
   ]
  },
  {
   "cell_type": "code",
   "execution_count": 44,
   "id": "6ccb69ec",
   "metadata": {},
   "outputs": [
    {
     "name": "stdout",
     "output_type": "stream",
     "text": [
      "0.868421052631579 is the accuracy of the logistic regression model\n",
      "0.8728070175438597 is the accuracy of the RandomForestClassifier model\n"
     ]
    }
   ],
   "source": [
    "log_reg = logistic_reg_train_model(xtrain,ytrain,xtest,ytest)\n",
    "rf = Random_forest_train_model(xtrain,ytrain,xtest,ytest)"
   ]
  },
  {
   "cell_type": "code",
   "execution_count": 45,
   "id": "e60ffca6",
   "metadata": {},
   "outputs": [
    {
     "name": "stdout",
     "output_type": "stream",
     "text": [
      "0.8370044052863436 is the Val_accuracy of the logistic regression model\n",
      "0.8502202643171806 is the Val_accuracy of the RandomForestClassifier model\n"
     ]
    }
   ],
   "source": [
    "yhat_lr = logistic_reg_val_model(x_validation,y_validation, log_reg)\n",
    "yhat_rf = random_forest_val_model(x_validation,y_validation, rf)"
   ]
  },
  {
   "cell_type": "code",
   "execution_count": 46,
   "id": "c899e5ec",
   "metadata": {},
   "outputs": [
    {
     "data": {
      "image/png": "[encoded data removed]",
      "text/plain": [
       "<Figure size 432x432 with 1 Axes>"
      ]
     },
     "metadata": {
      "needs_background": "light"
     },
     "output_type": "display_data"
    }
   ],
   "source": [
    "print_roc(y_validation,yhat_lr,yhat_rf)"
   ]
  },
  {
   "cell_type": "code",
   "execution_count": 47,
   "id": "14f7a7ef",
   "metadata": {},
   "outputs": [
    {
     "name": "stdout",
     "output_type": "stream",
     "text": [
      "average precision Logistic Regression :0.904\n",
      "average precision Random Forest :0.897\n"
     ]
    },
    {
     "data": {
      "image/png": "[encoded data removed]",
      "text/plain": [
       "<Figure size 432x432 with 1 Axes>"
      ]
     },
     "metadata": {
      "needs_background": "light"
     },
     "output_type": "display_data"
    }
   ],
   "source": [
    "print_precision_recall_curve(y_validation,yhat_lr,yhat_rf)"
   ]
  },
  {
   "cell_type": "markdown",
   "id": "8cfbd07f",
   "metadata": {},
   "source": [
    "The graphs show a slight decrease in the areas under both ROC curve and precision recall curve than the frequency methods."
   ]
  },
  {
   "cell_type": "markdown",
   "id": "c1ab864a",
   "metadata": {},
   "source": [
    "# word2vec - CBOW"
   ]
  },
  {
   "cell_type": "markdown",
   "id": "2fc481fb",
   "metadata": {},
   "source": [
    "The word embedding method we used here is CBOW.\n",
    "We use \n",
    "- Gensim: a free open-source Python library for representing documents as semantic vectors and is designed to process raw, plain text using unsupervised machine learning algorithms.\n",
    "\n",
    "The word2vec algorithms include skip-gram and CBOW models, using either hierarchical softmax or negative sampling.\n",
    "\n",
    "First we split the `processed_data` into words which can be an iterable for training the `Word2Vec`model.We used `epoch` 5 ,  since increasing the epochs is not improving the performance although it actually makes the resulting word embeddings more accurate.\n"
   ]
  },
  {
   "cell_type": "code",
   "execution_count": 48,
   "id": "9faa3c2b",
   "metadata": {},
   "outputs": [],
   "source": [
    "from gensim.models import Word2Vec, Phrases\n",
    "import nltk"
   ]
  },
  {
   "cell_type": "code",
   "execution_count": 49,
   "id": "b2c0019c",
   "metadata": {},
   "outputs": [],
   "source": [
    "embedding_dim = 200\n",
    "window_size = 5\n",
    "count = 3\n",
    "epoch = 15\n",
    "sg= 0 #The training algorithm, either CBOW(0) or skip gram(1). The default training algorithm is CBOW.\n",
    "\n",
    "words = [text.split() for text in data['processed_data']]\n",
    "word2vec = Word2Vec(words, min_count=count, vector_size= embedding_dim, window = window_size, epochs = epoch , sg= sg)"
   ]
  },
  {
   "cell_type": "code",
   "execution_count": 50,
   "id": "1d3e266f",
   "metadata": {},
   "outputs": [
    {
     "data": {
      "text/plain": [
       "['think', 'relates', 'one', 'think', 'weve', 'got', 'currently', 'underway']"
      ]
     },
     "execution_count": 50,
     "metadata": {},
     "output_type": "execute_result"
    }
   ],
   "source": [
    "words[0][:8]"
   ]
  },
  {
   "cell_type": "code",
   "execution_count": 51,
   "id": "accbd669",
   "metadata": {},
   "outputs": [],
   "source": [
    "vocabulary = word2vec.wv.key_to_index\n",
    "#print(vocabulary)"
   ]
  },
  {
   "cell_type": "code",
   "execution_count": 52,
   "id": "6ac1493b",
   "metadata": {},
   "outputs": [
    {
     "data": {
      "text/plain": [
       "[('weeks', 0.9606545567512512),\n",
       " ('six', 0.948232889175415),\n",
       " ('months', 0.9446751475334167),\n",
       " ('call', 0.9256205558776855),\n",
       " ('three', 0.9128668308258057),\n",
       " ('four', 0.909765362739563),\n",
       " ('days', 0.905681312084198),\n",
       " ('wage', 0.9053879976272583),\n",
       " ('seven', 0.8940609693527222),\n",
       " ('couple', 0.8931562304496765)]"
      ]
     },
     "execution_count": 52,
     "metadata": {},
     "output_type": "execute_result"
    }
   ],
   "source": [
    "sim_words = word2vec.wv.most_similar('quarters')\n",
    "sim_words"
   ]
  },
  {
   "cell_type": "code",
   "execution_count": 53,
   "id": "450127d7",
   "metadata": {},
   "outputs": [],
   "source": [
    "bigrams = Phrases(sentences=words)\n",
    "trigrams = Phrases(sentences=bigrams[words])"
   ]
  },
  {
   "cell_type": "markdown",
   "id": "be425746",
   "metadata": {},
   "source": [
    "For training the model, the input data should be vectorized. Since each of the sentences in the dataset is not of equal length we use padding.\n",
    "After trying out certain values  for  `maxlen`,  found that increasing the padding degraded the performance hence applying the default value which will take the longest sequence length\n"
   ]
  },
  {
   "cell_type": "code",
   "execution_count": 54,
   "id": "cead35df",
   "metadata": {},
   "outputs": [
    {
     "name": "stdout",
     "output_type": "stream",
     "text": [
      "Convert sentences to sentences with ngrams... (done)\n",
      "Vectorize sentences... (done)\n",
      "Transform sentences to sequences... (done)\n"
     ]
    }
   ],
   "source": [
    "from keras.preprocessing.sequence import pad_sequences\n",
    "\n",
    "def vectorize_data(data, vocab: dict) -> list:\n",
    "    print('Vectorize sentences...', end='\\r')\n",
    "    keys = list(vocab.keys())\n",
    "    filter_unknown = lambda word: vocab.get(word, None) is not None\n",
    "    encode = lambda review: list(map(keys.index, filter(filter_unknown, review)))\n",
    "    vectorized = list(map(encode, data))\n",
    "    print('Vectorize sentences... (done)')\n",
    "    return vectorized\n",
    "\n",
    "print('Convert sentences to sentences with ngrams...', end='\\r')\n",
    "X_data = trigrams[bigrams[corpus]]\n",
    "print('Convert sentences to sentences with ngrams... (done)')\n",
    "\n",
    "sequences=vectorize_data(X_data, vocab=word2vec.wv.key_to_index)\n",
    "X_pad = pad_sequences(\n",
    "    sequences=sequences,\n",
    "    padding='post')\n",
    "print('Transform sentences to sequences... (done)')"
   ]
  },
  {
   "cell_type": "code",
   "execution_count": 55,
   "id": "74733aa3",
   "metadata": {},
   "outputs": [],
   "source": [
    "SEED = 42\n",
    "xtrain, x_validation_and_test, ytrain, y_validation_and_test = train_test_split(X_pad, target, test_size=.3, random_state=SEED)\n",
    "x_validation, xtest, y_validation, ytest = train_test_split(x_validation_and_test, y_validation_and_test, test_size=.5, random_state=SEED)"
   ]
  },
  {
   "cell_type": "code",
   "execution_count": 56,
   "id": "275a309e",
   "metadata": {},
   "outputs": [
    {
     "name": "stderr",
     "output_type": "stream",
     "text": [
      "C:\\Users\\sweet\\AppData\\Local\\Programs\\Python\\Python39\\lib\\site-packages\\sklearn\\linear_model\\_logistic.py:814: ConvergenceWarning: lbfgs failed to converge (status=1):\n",
      "STOP: TOTAL NO. of ITERATIONS REACHED LIMIT.\n",
      "\n",
      "Increase the number of iterations (max_iter) or scale the data as shown in:\n",
      "    https://scikit-learn.org/stable/modules/preprocessing.html\n",
      "Please also refer to the documentation for alternative solver options:\n",
      "    https://scikit-learn.org/stable/modules/linear_model.html#logistic-regression\n",
      "  n_iter_i = _check_optimize_result(\n"
     ]
    },
    {
     "name": "stdout",
     "output_type": "stream",
     "text": [
      "0.8026315789473685 is the accuracy of the logistic regression model\n",
      "0.8728070175438597 is the accuracy of the RandomForestClassifier model\n"
     ]
    }
   ],
   "source": [
    "log_reg = logistic_reg_train_model(xtrain,ytrain,xtest,ytest)\n",
    "rf = Random_forest_train_model(xtrain,ytrain,xtest,ytest)"
   ]
  },
  {
   "cell_type": "code",
   "execution_count": 57,
   "id": "3bc846b7",
   "metadata": {
    "scrolled": true
   },
   "outputs": [
    {
     "name": "stdout",
     "output_type": "stream",
     "text": [
      "0.7709251101321586 is the Val_accuracy of the logistic regression model\n",
      "0.8325991189427313 is the Val_accuracy of the RandomForestClassifier model\n"
     ]
    }
   ],
   "source": [
    "yhat_lr = logistic_reg_val_model(x_validation,y_validation, log_reg)\n",
    "yhat_rf = random_forest_val_model(x_validation,y_validation, rf)"
   ]
  },
  {
   "cell_type": "code",
   "execution_count": 58,
   "id": "96825a3f",
   "metadata": {},
   "outputs": [
    {
     "data": {
      "image/png": "[encoded data removed]",
      "text/plain": [
       "<Figure size 432x432 with 1 Axes>"
      ]
     },
     "metadata": {
      "needs_background": "light"
     },
     "output_type": "display_data"
    }
   ],
   "source": [
    "print_roc(y_validation,yhat_lr,yhat_rf)"
   ]
  },
  {
   "cell_type": "code",
   "execution_count": 59,
   "id": "3c187493",
   "metadata": {},
   "outputs": [
    {
     "name": "stdout",
     "output_type": "stream",
     "text": [
      "average precision Logistic Regression :0.884\n",
      "average precision Random Forest :0.824\n"
     ]
    },
    {
     "data": {
      "image/png": "[encoded data removed]",
      "text/plain": [
       "<Figure size 432x432 with 1 Axes>"
      ]
     },
     "metadata": {
      "needs_background": "light"
     },
     "output_type": "display_data"
    }
   ],
   "source": [
    "print_precision_recall_curve(y_validation,yhat_lr,yhat_rf)"
   ]
  },
  {
   "cell_type": "markdown",
   "id": "7700b4b3",
   "metadata": {},
   "source": [
    "### Results"
   ]
  },
  {
   "cell_type": "markdown",
   "id": "d72921c4",
   "metadata": {},
   "source": [
    "We have tested the model on the validation set to check the final results. We will compare two different models: 1. logistic regression 2. Random Forest Classifier for all the text modelling methods.\n",
    "\n",
    "The below table shows the validation accuracy for the models wrt different input methods.\n"
   ]
  },
  {
   "cell_type": "markdown",
   "id": "d3d53731",
   "metadata": {},
   "source": [
    "|Input Method|   Logistic Regression       |Random Forest Classifier|\n",
    "|:----:|:----:|:----:|\n",
    "|BOW| 0.845 |0.837|\n",
    "|Tf-IDF|0.837 |0.841|\n",
    "|LSA| 0.837|0.850|\n",
    "|CBOW|0.770 |0.832|"
   ]
  },
  {
   "cell_type": "markdown",
   "id": "ed887d5e",
   "metadata": {},
   "source": [
    "For the small data set in which we tried 4 different methods and two models,It is clear that even though it dosent make much differences, \n",
    "- Random forest classifier performs better than Logistic regression for all the text modelling methods. \n",
    "- The accuracy for word2vec model is little bit less compared to all others. Both LSA and Tf-idf yields good performance from the model."
   ]
  }
 ],
 "metadata": {
  "kernelspec": {
   "display_name": "Python 3 (ipykernel)",
   "language": "python",
   "name": "python3"
  },
  "language_info": {
   "codemirror_mode": {
    "name": "ipython",
    "version": 3
   },
   "file_extension": ".py",
   "mimetype": "text/x-python",
   "name": "python",
   "nbconvert_exporter": "python",
   "pygments_lexer": "ipython3",
   "version": "3.9.7"
  }
 },
 "nbformat": 4,
 "nbformat_minor": 5
}
